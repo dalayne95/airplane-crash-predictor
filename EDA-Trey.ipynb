{
 "cells": [
  {
   "cell_type": "markdown",
   "metadata": {},
   "source": [
    "# Classifying Airplane Accidents Based on Severity"
   ]
  },
  {
   "cell_type": "markdown",
   "metadata": {},
   "source": [
    "## Context\n",
    "\n",
    "In 2018, there were [15 airplane accidents](https://www.cnn.com/2019/01/02/health/plane-crash-deaths-intl/index.html) of varying severity each year, with over 500 deaths. Although airplane safety continues to increase each year, we are interested in knowing if this number can be reduced further. We plan to investigate this by predicting the severity of a crash based on crash details, and determining which factors weight the most heavily on the severity of an accident. \n",
    "\n",
    "[Data Source](https://www.hackerearth.com/challenges/competitive/airplane-accident-severity-hackerearth-machine-learning-challenge/machine-learning/how-severe-can-an-airplane-accident-be-03e7a3f1/)"
   ]
  },
  {
   "cell_type": "markdown",
   "metadata": {},
   "source": [
    "## Goals\n",
    "\n",
    "- Predict the severity of an airplane accident based on several features:\n",
    "    - Number of days since inspection \n",
    "    - Total safety complains\n",
    "    - An estimation of how much control the pilot had during the incident\n",
    "    - Turbulence\n",
    "    - Cabin temperature\n",
    "    - Accident type\n",
    "    - Max elevation\n",
    "    - Number of prior violations"
   ]
  },
  {
   "cell_type": "code",
   "execution_count": 2,
   "metadata": {},
   "outputs": [],
   "source": [
    "import pandas as pd\n",
    "import numpy as np \n",
    "from sklearn.model_selection import train_test_split\n",
    "from sklearn.preprocessing import LabelEncoder\n",
    "from sklearn.preprocessing import OneHotEncoder"
   ]
  },
  {
   "cell_type": "code",
   "execution_count": 3,
   "metadata": {
    "scrolled": true
   },
   "outputs": [
    {
     "data": {
      "text/html": [
       "<div>\n",
       "<style scoped>\n",
       "    .dataframe tbody tr th:only-of-type {\n",
       "        vertical-align: middle;\n",
       "    }\n",
       "\n",
       "    .dataframe tbody tr th {\n",
       "        vertical-align: top;\n",
       "    }\n",
       "\n",
       "    .dataframe thead th {\n",
       "        text-align: right;\n",
       "    }\n",
       "</style>\n",
       "<table border=\"1\" class=\"dataframe\">\n",
       "  <thead>\n",
       "    <tr style=\"text-align: right;\">\n",
       "      <th></th>\n",
       "      <th>Severity</th>\n",
       "      <th>Safety_Score</th>\n",
       "      <th>Days_Since_Inspection</th>\n",
       "      <th>Total_Safety_Complaints</th>\n",
       "      <th>Control_Metric</th>\n",
       "      <th>Turbulence_In_gforces</th>\n",
       "      <th>Cabin_Temperature</th>\n",
       "      <th>Accident_Type_Code</th>\n",
       "      <th>Max_Elevation</th>\n",
       "      <th>Violations</th>\n",
       "      <th>Adverse_Weather_Metric</th>\n",
       "      <th>Accident_ID</th>\n",
       "    </tr>\n",
       "  </thead>\n",
       "  <tbody>\n",
       "    <tr>\n",
       "      <td>0</td>\n",
       "      <td>Minor_Damage_And_Injuries</td>\n",
       "      <td>49.223744</td>\n",
       "      <td>14</td>\n",
       "      <td>22</td>\n",
       "      <td>71.285324</td>\n",
       "      <td>0.272118</td>\n",
       "      <td>78.04</td>\n",
       "      <td>2</td>\n",
       "      <td>31335.476824</td>\n",
       "      <td>3</td>\n",
       "      <td>0.424352</td>\n",
       "      <td>7570</td>\n",
       "    </tr>\n",
       "    <tr>\n",
       "      <td>1</td>\n",
       "      <td>Minor_Damage_And_Injuries</td>\n",
       "      <td>62.465753</td>\n",
       "      <td>10</td>\n",
       "      <td>27</td>\n",
       "      <td>72.288058</td>\n",
       "      <td>0.423939</td>\n",
       "      <td>84.54</td>\n",
       "      <td>2</td>\n",
       "      <td>26024.711057</td>\n",
       "      <td>2</td>\n",
       "      <td>0.352350</td>\n",
       "      <td>12128</td>\n",
       "    </tr>\n",
       "    <tr>\n",
       "      <td>2</td>\n",
       "      <td>Significant_Damage_And_Fatalities</td>\n",
       "      <td>63.059361</td>\n",
       "      <td>13</td>\n",
       "      <td>16</td>\n",
       "      <td>66.362808</td>\n",
       "      <td>0.322604</td>\n",
       "      <td>78.86</td>\n",
       "      <td>7</td>\n",
       "      <td>39269.053927</td>\n",
       "      <td>3</td>\n",
       "      <td>0.003364</td>\n",
       "      <td>2181</td>\n",
       "    </tr>\n",
       "    <tr>\n",
       "      <td>3</td>\n",
       "      <td>Significant_Damage_And_Serious_Injuries</td>\n",
       "      <td>48.082192</td>\n",
       "      <td>11</td>\n",
       "      <td>9</td>\n",
       "      <td>74.703737</td>\n",
       "      <td>0.337029</td>\n",
       "      <td>81.79</td>\n",
       "      <td>3</td>\n",
       "      <td>42771.499200</td>\n",
       "      <td>1</td>\n",
       "      <td>0.211728</td>\n",
       "      <td>5946</td>\n",
       "    </tr>\n",
       "    <tr>\n",
       "      <td>4</td>\n",
       "      <td>Significant_Damage_And_Fatalities</td>\n",
       "      <td>26.484018</td>\n",
       "      <td>13</td>\n",
       "      <td>25</td>\n",
       "      <td>47.948952</td>\n",
       "      <td>0.541140</td>\n",
       "      <td>77.16</td>\n",
       "      <td>3</td>\n",
       "      <td>35509.228515</td>\n",
       "      <td>2</td>\n",
       "      <td>0.176883</td>\n",
       "      <td>9054</td>\n",
       "    </tr>\n",
       "    <tr>\n",
       "      <td>5</td>\n",
       "      <td>Minor_Damage_And_Injuries</td>\n",
       "      <td>43.333333</td>\n",
       "      <td>15</td>\n",
       "      <td>0</td>\n",
       "      <td>73.336372</td>\n",
       "      <td>0.432954</td>\n",
       "      <td>78.63</td>\n",
       "      <td>2</td>\n",
       "      <td>29288.448105</td>\n",
       "      <td>1</td>\n",
       "      <td>0.394505</td>\n",
       "      <td>10947</td>\n",
       "    </tr>\n",
       "    <tr>\n",
       "      <td>6</td>\n",
       "      <td>Highly_Fatal_And_Damaging</td>\n",
       "      <td>22.009132</td>\n",
       "      <td>15</td>\n",
       "      <td>10</td>\n",
       "      <td>62.853236</td>\n",
       "      <td>0.314671</td>\n",
       "      <td>88.04</td>\n",
       "      <td>4</td>\n",
       "      <td>32342.109345</td>\n",
       "      <td>0</td>\n",
       "      <td>0.058872</td>\n",
       "      <td>4717</td>\n",
       "    </tr>\n",
       "    <tr>\n",
       "      <td>7</td>\n",
       "      <td>Minor_Damage_And_Injuries</td>\n",
       "      <td>24.703196</td>\n",
       "      <td>18</td>\n",
       "      <td>4</td>\n",
       "      <td>60.802188</td>\n",
       "      <td>0.548353</td>\n",
       "      <td>83.48</td>\n",
       "      <td>4</td>\n",
       "      <td>22547.195242</td>\n",
       "      <td>2</td>\n",
       "      <td>0.040419</td>\n",
       "      <td>8008</td>\n",
       "    </tr>\n",
       "    <tr>\n",
       "      <td>8</td>\n",
       "      <td>Highly_Fatal_And_Damaging</td>\n",
       "      <td>54.840183</td>\n",
       "      <td>5</td>\n",
       "      <td>40</td>\n",
       "      <td>69.234275</td>\n",
       "      <td>0.335587</td>\n",
       "      <td>78.24</td>\n",
       "      <td>2</td>\n",
       "      <td>45751.983413</td>\n",
       "      <td>0</td>\n",
       "      <td>0.619186</td>\n",
       "      <td>8179</td>\n",
       "    </tr>\n",
       "    <tr>\n",
       "      <td>9</td>\n",
       "      <td>Significant_Damage_And_Serious_Injuries</td>\n",
       "      <td>52.237443</td>\n",
       "      <td>6</td>\n",
       "      <td>4</td>\n",
       "      <td>57.429353</td>\n",
       "      <td>0.465410</td>\n",
       "      <td>79.56</td>\n",
       "      <td>1</td>\n",
       "      <td>37933.399001</td>\n",
       "      <td>1</td>\n",
       "      <td>1.389295</td>\n",
       "      <td>6324</td>\n",
       "    </tr>\n",
       "    <tr>\n",
       "      <td>10</td>\n",
       "      <td>Highly_Fatal_And_Damaging</td>\n",
       "      <td>36.666667</td>\n",
       "      <td>11</td>\n",
       "      <td>11</td>\n",
       "      <td>80.218778</td>\n",
       "      <td>0.452788</td>\n",
       "      <td>81.15</td>\n",
       "      <td>2</td>\n",
       "      <td>31463.568565</td>\n",
       "      <td>2</td>\n",
       "      <td>0.424912</td>\n",
       "      <td>3789</td>\n",
       "    </tr>\n",
       "    <tr>\n",
       "      <td>11</td>\n",
       "      <td>Significant_Damage_And_Serious_Injuries</td>\n",
       "      <td>48.127854</td>\n",
       "      <td>11</td>\n",
       "      <td>2</td>\n",
       "      <td>62.807657</td>\n",
       "      <td>0.329096</td>\n",
       "      <td>77.80</td>\n",
       "      <td>3</td>\n",
       "      <td>22570.030398</td>\n",
       "      <td>4</td>\n",
       "      <td>0.111873</td>\n",
       "      <td>8946</td>\n",
       "    </tr>\n",
       "    <tr>\n",
       "      <td>12</td>\n",
       "      <td>Significant_Damage_And_Serious_Injuries</td>\n",
       "      <td>42.876712</td>\n",
       "      <td>12</td>\n",
       "      <td>14</td>\n",
       "      <td>68.960802</td>\n",
       "      <td>0.159604</td>\n",
       "      <td>77.23</td>\n",
       "      <td>3</td>\n",
       "      <td>44697.868740</td>\n",
       "      <td>3</td>\n",
       "      <td>0.222510</td>\n",
       "      <td>3629</td>\n",
       "    </tr>\n",
       "    <tr>\n",
       "      <td>13</td>\n",
       "      <td>Significant_Damage_And_Fatalities</td>\n",
       "      <td>63.652968</td>\n",
       "      <td>13</td>\n",
       "      <td>4</td>\n",
       "      <td>78.669098</td>\n",
       "      <td>0.232089</td>\n",
       "      <td>80.78</td>\n",
       "      <td>7</td>\n",
       "      <td>30882.726377</td>\n",
       "      <td>3</td>\n",
       "      <td>0.002567</td>\n",
       "      <td>2451</td>\n",
       "    </tr>\n",
       "    <tr>\n",
       "      <td>14</td>\n",
       "      <td>Highly_Fatal_And_Damaging</td>\n",
       "      <td>26.027397</td>\n",
       "      <td>14</td>\n",
       "      <td>2</td>\n",
       "      <td>83.546035</td>\n",
       "      <td>0.362994</td>\n",
       "      <td>81.63</td>\n",
       "      <td>3</td>\n",
       "      <td>18915.509025</td>\n",
       "      <td>2</td>\n",
       "      <td>0.095806</td>\n",
       "      <td>4028</td>\n",
       "    </tr>\n",
       "  </tbody>\n",
       "</table>\n",
       "</div>"
      ],
      "text/plain": [
       "                                   Severity  Safety_Score  \\\n",
       "0                 Minor_Damage_And_Injuries     49.223744   \n",
       "1                 Minor_Damage_And_Injuries     62.465753   \n",
       "2         Significant_Damage_And_Fatalities     63.059361   \n",
       "3   Significant_Damage_And_Serious_Injuries     48.082192   \n",
       "4         Significant_Damage_And_Fatalities     26.484018   \n",
       "5                 Minor_Damage_And_Injuries     43.333333   \n",
       "6                 Highly_Fatal_And_Damaging     22.009132   \n",
       "7                 Minor_Damage_And_Injuries     24.703196   \n",
       "8                 Highly_Fatal_And_Damaging     54.840183   \n",
       "9   Significant_Damage_And_Serious_Injuries     52.237443   \n",
       "10                Highly_Fatal_And_Damaging     36.666667   \n",
       "11  Significant_Damage_And_Serious_Injuries     48.127854   \n",
       "12  Significant_Damage_And_Serious_Injuries     42.876712   \n",
       "13        Significant_Damage_And_Fatalities     63.652968   \n",
       "14                Highly_Fatal_And_Damaging     26.027397   \n",
       "\n",
       "    Days_Since_Inspection  Total_Safety_Complaints  Control_Metric  \\\n",
       "0                      14                       22       71.285324   \n",
       "1                      10                       27       72.288058   \n",
       "2                      13                       16       66.362808   \n",
       "3                      11                        9       74.703737   \n",
       "4                      13                       25       47.948952   \n",
       "5                      15                        0       73.336372   \n",
       "6                      15                       10       62.853236   \n",
       "7                      18                        4       60.802188   \n",
       "8                       5                       40       69.234275   \n",
       "9                       6                        4       57.429353   \n",
       "10                     11                       11       80.218778   \n",
       "11                     11                        2       62.807657   \n",
       "12                     12                       14       68.960802   \n",
       "13                     13                        4       78.669098   \n",
       "14                     14                        2       83.546035   \n",
       "\n",
       "    Turbulence_In_gforces  Cabin_Temperature  Accident_Type_Code  \\\n",
       "0                0.272118              78.04                   2   \n",
       "1                0.423939              84.54                   2   \n",
       "2                0.322604              78.86                   7   \n",
       "3                0.337029              81.79                   3   \n",
       "4                0.541140              77.16                   3   \n",
       "5                0.432954              78.63                   2   \n",
       "6                0.314671              88.04                   4   \n",
       "7                0.548353              83.48                   4   \n",
       "8                0.335587              78.24                   2   \n",
       "9                0.465410              79.56                   1   \n",
       "10               0.452788              81.15                   2   \n",
       "11               0.329096              77.80                   3   \n",
       "12               0.159604              77.23                   3   \n",
       "13               0.232089              80.78                   7   \n",
       "14               0.362994              81.63                   3   \n",
       "\n",
       "    Max_Elevation  Violations  Adverse_Weather_Metric  Accident_ID  \n",
       "0    31335.476824           3                0.424352         7570  \n",
       "1    26024.711057           2                0.352350        12128  \n",
       "2    39269.053927           3                0.003364         2181  \n",
       "3    42771.499200           1                0.211728         5946  \n",
       "4    35509.228515           2                0.176883         9054  \n",
       "5    29288.448105           1                0.394505        10947  \n",
       "6    32342.109345           0                0.058872         4717  \n",
       "7    22547.195242           2                0.040419         8008  \n",
       "8    45751.983413           0                0.619186         8179  \n",
       "9    37933.399001           1                1.389295         6324  \n",
       "10   31463.568565           2                0.424912         3789  \n",
       "11   22570.030398           4                0.111873         8946  \n",
       "12   44697.868740           3                0.222510         3629  \n",
       "13   30882.726377           3                0.002567         2451  \n",
       "14   18915.509025           2                0.095806         4028  "
      ]
     },
     "execution_count": 3,
     "metadata": {},
     "output_type": "execute_result"
    }
   ],
   "source": [
    "# check out the dataframe\n",
    "\n",
    "df_train = pd.read_csv('3c055e822d5b11ea/train.csv')\n",
    "\n",
    "df_train.head(15)"
   ]
  },
  {
   "cell_type": "code",
   "execution_count": 4,
   "metadata": {},
   "outputs": [
    {
     "data": {
      "text/html": [
       "<div>\n",
       "<style scoped>\n",
       "    .dataframe tbody tr th:only-of-type {\n",
       "        vertical-align: middle;\n",
       "    }\n",
       "\n",
       "    .dataframe tbody tr th {\n",
       "        vertical-align: top;\n",
       "    }\n",
       "\n",
       "    .dataframe thead th {\n",
       "        text-align: right;\n",
       "    }\n",
       "</style>\n",
       "<table border=\"1\" class=\"dataframe\">\n",
       "  <thead>\n",
       "    <tr style=\"text-align: right;\">\n",
       "      <th></th>\n",
       "      <th>count</th>\n",
       "      <th>mean</th>\n",
       "      <th>std</th>\n",
       "      <th>min</th>\n",
       "      <th>25%</th>\n",
       "      <th>50%</th>\n",
       "      <th>75%</th>\n",
       "      <th>max</th>\n",
       "    </tr>\n",
       "  </thead>\n",
       "  <tbody>\n",
       "    <tr>\n",
       "      <td>Safety_Score</td>\n",
       "      <td>10000.0</td>\n",
       "      <td>41.876406</td>\n",
       "      <td>16.138072</td>\n",
       "      <td>0.000000</td>\n",
       "      <td>30.593607</td>\n",
       "      <td>41.278539</td>\n",
       "      <td>52.511416</td>\n",
       "      <td>100.000000</td>\n",
       "    </tr>\n",
       "    <tr>\n",
       "      <td>Days_Since_Inspection</td>\n",
       "      <td>10000.0</td>\n",
       "      <td>12.931100</td>\n",
       "      <td>3.539803</td>\n",
       "      <td>1.000000</td>\n",
       "      <td>11.000000</td>\n",
       "      <td>13.000000</td>\n",
       "      <td>15.000000</td>\n",
       "      <td>23.000000</td>\n",
       "    </tr>\n",
       "    <tr>\n",
       "      <td>Total_Safety_Complaints</td>\n",
       "      <td>10000.0</td>\n",
       "      <td>6.564300</td>\n",
       "      <td>6.971982</td>\n",
       "      <td>0.000000</td>\n",
       "      <td>2.000000</td>\n",
       "      <td>4.000000</td>\n",
       "      <td>9.000000</td>\n",
       "      <td>54.000000</td>\n",
       "    </tr>\n",
       "    <tr>\n",
       "      <td>Control_Metric</td>\n",
       "      <td>10000.0</td>\n",
       "      <td>65.145324</td>\n",
       "      <td>11.882934</td>\n",
       "      <td>0.000000</td>\n",
       "      <td>56.927985</td>\n",
       "      <td>65.587967</td>\n",
       "      <td>73.336372</td>\n",
       "      <td>100.000000</td>\n",
       "    </tr>\n",
       "    <tr>\n",
       "      <td>Turbulence_In_gforces</td>\n",
       "      <td>10000.0</td>\n",
       "      <td>0.381495</td>\n",
       "      <td>0.121301</td>\n",
       "      <td>0.134000</td>\n",
       "      <td>0.293665</td>\n",
       "      <td>0.365879</td>\n",
       "      <td>0.451346</td>\n",
       "      <td>0.882648</td>\n",
       "    </tr>\n",
       "    <tr>\n",
       "      <td>Cabin_Temperature</td>\n",
       "      <td>10000.0</td>\n",
       "      <td>79.969331</td>\n",
       "      <td>2.759739</td>\n",
       "      <td>74.740000</td>\n",
       "      <td>77.960000</td>\n",
       "      <td>79.540000</td>\n",
       "      <td>81.560000</td>\n",
       "      <td>97.510000</td>\n",
       "    </tr>\n",
       "    <tr>\n",
       "      <td>Accident_Type_Code</td>\n",
       "      <td>10000.0</td>\n",
       "      <td>3.814900</td>\n",
       "      <td>1.902577</td>\n",
       "      <td>1.000000</td>\n",
       "      <td>2.000000</td>\n",
       "      <td>4.000000</td>\n",
       "      <td>5.000000</td>\n",
       "      <td>7.000000</td>\n",
       "    </tr>\n",
       "    <tr>\n",
       "      <td>Max_Elevation</td>\n",
       "      <td>10000.0</td>\n",
       "      <td>32001.803282</td>\n",
       "      <td>9431.995196</td>\n",
       "      <td>831.695553</td>\n",
       "      <td>25757.636908</td>\n",
       "      <td>32060.336419</td>\n",
       "      <td>38380.641513</td>\n",
       "      <td>64297.651218</td>\n",
       "    </tr>\n",
       "    <tr>\n",
       "      <td>Violations</td>\n",
       "      <td>10000.0</td>\n",
       "      <td>2.012200</td>\n",
       "      <td>1.039980</td>\n",
       "      <td>0.000000</td>\n",
       "      <td>1.000000</td>\n",
       "      <td>2.000000</td>\n",
       "      <td>3.000000</td>\n",
       "      <td>5.000000</td>\n",
       "    </tr>\n",
       "    <tr>\n",
       "      <td>Adverse_Weather_Metric</td>\n",
       "      <td>10000.0</td>\n",
       "      <td>0.255635</td>\n",
       "      <td>0.381128</td>\n",
       "      <td>0.000316</td>\n",
       "      <td>0.012063</td>\n",
       "      <td>0.074467</td>\n",
       "      <td>0.354059</td>\n",
       "      <td>2.365378</td>\n",
       "    </tr>\n",
       "    <tr>\n",
       "      <td>Accident_ID</td>\n",
       "      <td>10000.0</td>\n",
       "      <td>6266.554200</td>\n",
       "      <td>3610.170288</td>\n",
       "      <td>2.000000</td>\n",
       "      <td>3139.750000</td>\n",
       "      <td>6280.500000</td>\n",
       "      <td>9391.500000</td>\n",
       "      <td>12500.000000</td>\n",
       "    </tr>\n",
       "  </tbody>\n",
       "</table>\n",
       "</div>"
      ],
      "text/plain": [
       "                           count          mean          std         min  \\\n",
       "Safety_Score             10000.0     41.876406    16.138072    0.000000   \n",
       "Days_Since_Inspection    10000.0     12.931100     3.539803    1.000000   \n",
       "Total_Safety_Complaints  10000.0      6.564300     6.971982    0.000000   \n",
       "Control_Metric           10000.0     65.145324    11.882934    0.000000   \n",
       "Turbulence_In_gforces    10000.0      0.381495     0.121301    0.134000   \n",
       "Cabin_Temperature        10000.0     79.969331     2.759739   74.740000   \n",
       "Accident_Type_Code       10000.0      3.814900     1.902577    1.000000   \n",
       "Max_Elevation            10000.0  32001.803282  9431.995196  831.695553   \n",
       "Violations               10000.0      2.012200     1.039980    0.000000   \n",
       "Adverse_Weather_Metric   10000.0      0.255635     0.381128    0.000316   \n",
       "Accident_ID              10000.0   6266.554200  3610.170288    2.000000   \n",
       "\n",
       "                                  25%           50%           75%  \\\n",
       "Safety_Score                30.593607     41.278539     52.511416   \n",
       "Days_Since_Inspection       11.000000     13.000000     15.000000   \n",
       "Total_Safety_Complaints      2.000000      4.000000      9.000000   \n",
       "Control_Metric              56.927985     65.587967     73.336372   \n",
       "Turbulence_In_gforces        0.293665      0.365879      0.451346   \n",
       "Cabin_Temperature           77.960000     79.540000     81.560000   \n",
       "Accident_Type_Code           2.000000      4.000000      5.000000   \n",
       "Max_Elevation            25757.636908  32060.336419  38380.641513   \n",
       "Violations                   1.000000      2.000000      3.000000   \n",
       "Adverse_Weather_Metric       0.012063      0.074467      0.354059   \n",
       "Accident_ID               3139.750000   6280.500000   9391.500000   \n",
       "\n",
       "                                  max  \n",
       "Safety_Score               100.000000  \n",
       "Days_Since_Inspection       23.000000  \n",
       "Total_Safety_Complaints     54.000000  \n",
       "Control_Metric             100.000000  \n",
       "Turbulence_In_gforces        0.882648  \n",
       "Cabin_Temperature           97.510000  \n",
       "Accident_Type_Code           7.000000  \n",
       "Max_Elevation            64297.651218  \n",
       "Violations                   5.000000  \n",
       "Adverse_Weather_Metric       2.365378  \n",
       "Accident_ID              12500.000000  "
      ]
     },
     "execution_count": 4,
     "metadata": {},
     "output_type": "execute_result"
    }
   ],
   "source": [
    "df_train.describe().T"
   ]
  },
  {
   "cell_type": "code",
   "execution_count": 5,
   "metadata": {},
   "outputs": [],
   "source": [
    "X = df_train.drop(['Severity'], axis=1)\n",
    "y = df_train['Severity']"
   ]
  },
  {
   "cell_type": "code",
   "execution_count": 6,
   "metadata": {},
   "outputs": [
    {
     "name": "stdout",
     "output_type": "stream",
     "text": [
      "[1 1 2 ... 3 1 0]\n"
     ]
    }
   ],
   "source": [
    "# one hot encoding for severity column \n",
    "# one hot encoding encodes categorical features as a one-hot numeric array\n",
    "\n",
    "# set split = y target \n",
    "y \n",
    "#integer encode the categorical values\n",
    "le = LabelEncoder()\n",
    "integer_encoded = le.fit_transform(y)\n",
    "\n",
    "y = integer_encoded\n",
    "\n",
    "# binary encode the values\n",
    "# onehot_encoder = OneHotEncoder(sparse=False)\n",
    "# integer_encoded = integer_encoded.reshape(len(integer_encoded), 1)\n",
    "# onehot_encoded = onehot_encoder.fit_transform(integer_encoded)\n",
    "\n",
    "# onehot_encoded = y\n",
    "\n",
    "print(y)"
   ]
  },
  {
   "cell_type": "code",
   "execution_count": 7,
   "metadata": {},
   "outputs": [
    {
     "name": "stdout",
     "output_type": "stream",
     "text": [
      "(10000, 11)\n",
      "(10000,)\n"
     ]
    }
   ],
   "source": [
    "print(X.shape)\n",
    "print(y.shape)"
   ]
  },
  {
   "cell_type": "code",
   "execution_count": 8,
   "metadata": {},
   "outputs": [],
   "source": [
    "# train test split\n",
    "# test_size is default of 75/25 split \n",
    "\n",
    "X_train, X_test, y_train, y_test = train_test_split(X, y, random_state=42)"
   ]
  },
  {
   "cell_type": "code",
   "execution_count": 9,
   "metadata": {
    "scrolled": true
   },
   "outputs": [
    {
     "name": "stdout",
     "output_type": "stream",
     "text": [
      "(7500, 11)\n",
      "(7500,)\n"
     ]
    }
   ],
   "source": [
    "print(X_train.shape)\n",
    "print(y_train.shape)\n",
    "\n"
   ]
  },
  {
   "cell_type": "code",
   "execution_count": 10,
   "metadata": {},
   "outputs": [
    {
     "data": {
      "text/plain": [
       "array([0, 1, 1, ..., 0, 2, 3])"
      ]
     },
     "execution_count": 10,
     "metadata": {},
     "output_type": "execute_result"
    }
   ],
   "source": [
    "y_train"
   ]
  },
  {
   "cell_type": "code",
   "execution_count": 11,
   "metadata": {},
   "outputs": [],
   "source": [
    "# setting y_train equal to the onehotencoded y values\n"
   ]
  },
  {
   "cell_type": "code",
   "execution_count": 12,
   "metadata": {},
   "outputs": [
    {
     "name": "stdout",
     "output_type": "stream",
     "text": [
      "(7500, 11)\n",
      "(7500,)\n"
     ]
    }
   ],
   "source": [
    "print(X_train.shape)\n",
    "print(y_train.shape)"
   ]
  },
  {
   "cell_type": "code",
   "execution_count": 13,
   "metadata": {},
   "outputs": [
    {
     "data": {
      "text/plain": [
       "array([0, 1, 1, ..., 0, 2, 3])"
      ]
     },
     "execution_count": 13,
     "metadata": {},
     "output_type": "execute_result"
    }
   ],
   "source": [
    "y_train"
   ]
  },
  {
   "cell_type": "markdown",
   "metadata": {},
   "source": [
    "# scaling \n",
    "# minmax or standard scaler?\n",
    "\n",
    "Fit() is used to compute the parameter needed for transformation and transform() is for scaling the data to convert into standard format for the model.\n",
    "\n",
    "fit_tranform() is combination of two which is doing above work in efficiently.\n",
    "\n",
    "Since fit_transform() is already computing and transforming the training data only transformation for testing data is left,since parameter needed for transformation is already computed and stored only transformation() of testing data is left therefor only transform() is used instead of fit_transform()."
   ]
  },
  {
   "cell_type": "code",
   "execution_count": 14,
   "metadata": {},
   "outputs": [],
   "source": [
    "from sklearn.preprocessing import StandardScaler\n",
    "\n",
    "ss = StandardScaler()"
   ]
  },
  {
   "cell_type": "code",
   "execution_count": 15,
   "metadata": {},
   "outputs": [
    {
     "data": {
      "text/plain": [
       "(7500, 11)"
      ]
     },
     "execution_count": 15,
     "metadata": {},
     "output_type": "execute_result"
    }
   ],
   "source": [
    "X_scaled = ss.fit_transform(X_train)\n",
    "X_scaled.shape\n",
    "\n"
   ]
  },
  {
   "cell_type": "markdown",
   "metadata": {},
   "source": [
    "# Decision Tree\n",
    "\n",
    "Build a baseline Tree \n",
    "\n",
    "Random Search / Grid Search \n",
    "\n",
    "Best Params or OOB score?"
   ]
  },
  {
   "cell_type": "code",
   "execution_count": 34,
   "metadata": {},
   "outputs": [],
   "source": [
    "from sklearn.tree import DecisionTreeClassifier\n",
    "from sklearn.ensemble import BaggingClassifier, RandomForestClassifier\n",
    "\n",
    "\n",
    "tree_clf = DecisionTreeClassifier(criterion='gini', max_depth=None) "
   ]
  },
  {
   "cell_type": "code",
   "execution_count": 35,
   "metadata": {},
   "outputs": [
    {
     "data": {
      "text/plain": [
       "DecisionTreeClassifier(class_weight=None, criterion='gini', max_depth=None,\n",
       "                       max_features=None, max_leaf_nodes=None,\n",
       "                       min_impurity_decrease=0.0, min_impurity_split=None,\n",
       "                       min_samples_leaf=1, min_samples_split=2,\n",
       "                       min_weight_fraction_leaf=0.0, presort=False,\n",
       "                       random_state=None, splitter='best')"
      ]
     },
     "execution_count": 35,
     "metadata": {},
     "output_type": "execute_result"
    }
   ],
   "source": [
    "tree_clf.fit(X_train, y_train)\n"
   ]
  },
  {
   "cell_type": "code",
   "execution_count": 36,
   "metadata": {},
   "outputs": [
    {
     "data": {
      "text/plain": [
       "array([0.39551272, 0.30971916, 0.00800223, 0.14529569, 0.01745051,\n",
       "       0.0125729 , 0.07526106, 0.01057639, 0.0037331 , 0.01222291,\n",
       "       0.00965331])"
      ]
     },
     "execution_count": 36,
     "metadata": {},
     "output_type": "execute_result"
    }
   ],
   "source": [
    "tree_clf.feature_importances_\n"
   ]
  },
  {
   "cell_type": "code",
   "execution_count": null,
   "metadata": {},
   "outputs": [],
   "source": []
  },
  {
   "cell_type": "code",
   "execution_count": 37,
   "metadata": {},
   "outputs": [],
   "source": [
    "# scaling \n",
    "# minmax or standard scaler?\n",
    "\n",
    "import matplotlib.pyplot as plt"
   ]
  },
  {
   "cell_type": "code",
   "execution_count": 38,
   "metadata": {},
   "outputs": [
    {
     "data": {
      "image/png": "[encoded data removed]",
      "text/plain": [
       "<Figure size 576x576 with 1 Axes>"
      ]
     },
     "metadata": {
      "needs_background": "light"
     },
     "output_type": "display_data"
    }
   ],
   "source": [
    "def plot_feature_importances(model):\n",
    "    n_features = X_train.shape[1]\n",
    "    plt.figure(figsize=(8,8))\n",
    "    plt.barh(range(n_features), model.feature_importances_, align='center') \n",
    "    plt.yticks(np.arange(n_features), X_train.columns.values) \n",
    "    plt.xlabel('Feature importance')\n",
    "    plt.ylabel('Feature')\n",
    "\n",
    "plot_feature_importances(tree_clf)"
   ]
  },
  {
   "cell_type": "code",
   "execution_count": 39,
   "metadata": {},
   "outputs": [],
   "source": [
    "bagged_tree =  BaggingClassifier(DecisionTreeClassifier(criterion='gini', max_depth=None), \n",
    "                                 n_estimators=20, random_state=42)"
   ]
  },
  {
   "cell_type": "code",
   "execution_count": 40,
   "metadata": {},
   "outputs": [
    {
     "data": {
      "text/plain": [
       "BaggingClassifier(base_estimator=DecisionTreeClassifier(class_weight=None,\n",
       "                                                        criterion='gini',\n",
       "                                                        max_depth=None,\n",
       "                                                        max_features=None,\n",
       "                                                        max_leaf_nodes=None,\n",
       "                                                        min_impurity_decrease=0.0,\n",
       "                                                        min_impurity_split=None,\n",
       "                                                        min_samples_leaf=1,\n",
       "                                                        min_samples_split=2,\n",
       "                                                        min_weight_fraction_leaf=0.0,\n",
       "                                                        presort=False,\n",
       "                                                        random_state=None,\n",
       "                                                        splitter='best'),\n",
       "                  bootstrap=True, bootstrap_features=False, max_features=1.0,\n",
       "                  max_samples=1.0, n_estimators=20, n_jobs=None,\n",
       "                  oob_score=False, random_state=42, verbose=0,\n",
       "                  warm_start=False)"
      ]
     },
     "execution_count": 40,
     "metadata": {},
     "output_type": "execute_result"
    }
   ],
   "source": [
    "bagged_tree"
   ]
  },
  {
   "cell_type": "code",
   "execution_count": 41,
   "metadata": {},
   "outputs": [
    {
     "data": {
      "text/plain": [
       "BaggingClassifier(base_estimator=DecisionTreeClassifier(class_weight=None,\n",
       "                                                        criterion='gini',\n",
       "                                                        max_depth=None,\n",
       "                                                        max_features=None,\n",
       "                                                        max_leaf_nodes=None,\n",
       "                                                        min_impurity_decrease=0.0,\n",
       "                                                        min_impurity_split=None,\n",
       "                                                        min_samples_leaf=1,\n",
       "                                                        min_samples_split=2,\n",
       "                                                        min_weight_fraction_leaf=0.0,\n",
       "                                                        presort=False,\n",
       "                                                        random_state=None,\n",
       "                                                        splitter='best'),\n",
       "                  bootstrap=True, bootstrap_features=False, max_features=1.0,\n",
       "                  max_samples=1.0, n_estimators=20, n_jobs=None,\n",
       "                  oob_score=False, random_state=42, verbose=0,\n",
       "                  warm_start=False)"
      ]
     },
     "execution_count": 41,
     "metadata": {},
     "output_type": "execute_result"
    }
   ],
   "source": [
    "bagged_tree.fit(X_train, y_train)"
   ]
  },
  {
   "cell_type": "code",
   "execution_count": 42,
   "metadata": {},
   "outputs": [],
   "source": [
    "# decide on type of model\n",
    "# linear svc? KNeighbors if it doesnt work? (according to flow chart) \n",
    "# random forest with boosted? (suggested by nick)\n",
    "# "
   ]
  },
  {
   "cell_type": "code",
   "execution_count": 43,
   "metadata": {},
   "outputs": [
    {
     "data": {
      "text/plain": [
       "0.9984"
      ]
     },
     "execution_count": 43,
     "metadata": {},
     "output_type": "execute_result"
    }
   ],
   "source": [
    "bagged_tree.score(X_train, y_train)\n"
   ]
  },
  {
   "cell_type": "markdown",
   "metadata": {},
   "source": [
    "# Running Test Data"
   ]
  },
  {
   "cell_type": "code",
   "execution_count": 56,
   "metadata": {},
   "outputs": [
    {
     "data": {
      "text/plain": [
       "0.94"
      ]
     },
     "execution_count": 56,
     "metadata": {},
     "output_type": "execute_result"
    }
   ],
   "source": [
    "bagged_tree.score(X_test, y_test)"
   ]
  },
  {
   "cell_type": "code",
   "execution_count": 44,
   "metadata": {},
   "outputs": [],
   "source": [
    "from sklearn.ensemble import RandomForestClassifier"
   ]
  },
  {
   "cell_type": "code",
   "execution_count": 57,
   "metadata": {},
   "outputs": [],
   "source": [
    "forest = RandomForestClassifier(n_estimators=100, max_depth= 5)\n"
   ]
  },
  {
   "cell_type": "code",
   "execution_count": 58,
   "metadata": {},
   "outputs": [
    {
     "data": {
      "text/plain": [
       "RandomForestClassifier(bootstrap=True, class_weight=None, criterion='gini',\n",
       "                       max_depth=5, max_features='auto', max_leaf_nodes=None,\n",
       "                       min_impurity_decrease=0.0, min_impurity_split=None,\n",
       "                       min_samples_leaf=1, min_samples_split=2,\n",
       "                       min_weight_fraction_leaf=0.0, n_estimators=100,\n",
       "                       n_jobs=None, oob_score=False, random_state=None,\n",
       "                       verbose=0, warm_start=False)"
      ]
     },
     "execution_count": 58,
     "metadata": {},
     "output_type": "execute_result"
    }
   ],
   "source": [
    "forest.fit(X_train, y_train)"
   ]
  },
  {
   "cell_type": "code",
   "execution_count": 59,
   "metadata": {},
   "outputs": [
    {
     "data": {
      "text/plain": [
       "0.7418666666666667"
      ]
     },
     "execution_count": 59,
     "metadata": {},
     "output_type": "execute_result"
    }
   ],
   "source": [
    "forest.score(X_train, y_train)"
   ]
  },
  {
   "cell_type": "code",
   "execution_count": 60,
   "metadata": {},
   "outputs": [
    {
     "data": {
      "image/png": "[encoded data removed]",
      "text/plain": [
       "<Figure size 576x576 with 1 Axes>"
      ]
     },
     "metadata": {
      "needs_background": "light"
     },
     "output_type": "display_data"
    }
   ],
   "source": [
    "plot_feature_importances(forest)\n"
   ]
  },
  {
   "cell_type": "code",
   "execution_count": 66,
   "metadata": {},
   "outputs": [],
   "source": [
    "forest_2 = RandomForestClassifier(n_estimators = 5, max_features= 10, max_depth= None)\n"
   ]
  },
  {
   "cell_type": "code",
   "execution_count": 67,
   "metadata": {},
   "outputs": [
    {
     "data": {
      "text/plain": [
       "RandomForestClassifier(bootstrap=True, class_weight=None, criterion='gini',\n",
       "                       max_depth=None, max_features=10, max_leaf_nodes=None,\n",
       "                       min_impurity_decrease=0.0, min_impurity_split=None,\n",
       "                       min_samples_leaf=1, min_samples_split=2,\n",
       "                       min_weight_fraction_leaf=0.0, n_estimators=5,\n",
       "                       n_jobs=None, oob_score=False, random_state=None,\n",
       "                       verbose=0, warm_start=False)"
      ]
     },
     "execution_count": 67,
     "metadata": {},
     "output_type": "execute_result"
    }
   ],
   "source": [
    "forest_2.fit(X_train, y_train)\n"
   ]
  },
  {
   "cell_type": "code",
   "execution_count": 68,
   "metadata": {},
   "outputs": [
    {
     "data": {
      "text/plain": [
       "0.9921333333333333"
      ]
     },
     "execution_count": 68,
     "metadata": {},
     "output_type": "execute_result"
    }
   ],
   "source": [
    "forest_2.score(X_train, y_train)"
   ]
  },
  {
   "cell_type": "code",
   "execution_count": 74,
   "metadata": {},
   "outputs": [],
   "source": [
    "from sklearn.model_selection import RandomizedSearchCV\n",
    "from sklearn.ensemble import RandomForestClassifier"
   ]
  },
  {
   "cell_type": "code",
   "execution_count": 75,
   "metadata": {},
   "outputs": [
    {
     "name": "stdout",
     "output_type": "stream",
     "text": [
      "{'n_estimators': [200, 400, 600, 800, 1000, 1200, 1400, 1600, 1800, 2000], 'max_features': ['auto', 'sqrt'], 'max_depth': [10, 20, 30, 40, 50, 60, 70, 80, 90, 100, 110, None], 'min_samples_split': [2, 5, 10], 'min_samples_leaf': [1, 2, 4], 'bootstrap': [True, False]}\n"
     ]
    }
   ],
   "source": [
    "# Number of trees in random forest\n",
    "n_estimators = [int(x) for x in np.linspace(start = 200, stop = 2000, num = 10)]\n",
    "# Number of features to consider at every split\n",
    "max_features = ['auto', 'sqrt']\n",
    "# Maximum number of levels in tree\n",
    "max_depth = [int(x) for x in np.linspace(10, 110, num = 11)]\n",
    "max_depth.append(None)\n",
    "# Minimum number of samples required to split a node\n",
    "min_samples_split = [2, 5, 10]\n",
    "# Minimum number of samples required at each leaf node\n",
    "min_samples_leaf = [1, 2, 4]\n",
    "# Method of selecting samples for training each tree\n",
    "bootstrap = [True, False]\n",
    "# Create the random grid\n",
    "random_grid = {'n_estimators': n_estimators,\n",
    "               'max_features': max_features,\n",
    "               'max_depth': max_depth,\n",
    "               'min_samples_split': min_samples_split,\n",
    "               'min_samples_leaf': min_samples_leaf,\n",
    "               'bootstrap': bootstrap}\n",
    "print(random_grid)"
   ]
  },
  {
   "cell_type": "code",
   "execution_count": 77,
   "metadata": {},
   "outputs": [
    {
     "name": "stdout",
     "output_type": "stream",
     "text": [
      "Fitting 3 folds for each of 100 candidates, totalling 300 fits\n"
     ]
    },
    {
     "name": "stderr",
     "output_type": "stream",
     "text": [
      "[Parallel(n_jobs=-1)]: Using backend LokyBackend with 4 concurrent workers.\n",
      "[Parallel(n_jobs=-1)]: Done  33 tasks      | elapsed:  3.8min\n",
      "[Parallel(n_jobs=-1)]: Done 154 tasks      | elapsed: 12.5min\n",
      "[Parallel(n_jobs=-1)]: Done 300 out of 300 | elapsed: 22.7min finished\n"
     ]
    },
    {
     "data": {
      "text/plain": [
       "RandomizedSearchCV(cv=3, error_score='raise-deprecating',\n",
       "                   estimator=RandomForestClassifier(bootstrap=True,\n",
       "                                                    class_weight=None,\n",
       "                                                    criterion='gini',\n",
       "                                                    max_depth=None,\n",
       "                                                    max_features='auto',\n",
       "                                                    max_leaf_nodes=None,\n",
       "                                                    min_impurity_decrease=0.0,\n",
       "                                                    min_impurity_split=None,\n",
       "                                                    min_samples_leaf=1,\n",
       "                                                    min_samples_split=2,\n",
       "                                                    min_weight_fraction_leaf=0.0,\n",
       "                                                    n_estimators='warn',\n",
       "                                                    n_jobs=None,\n",
       "                                                    oob_sc...\n",
       "                   param_distributions={'bootstrap': [True, False],\n",
       "                                        'max_depth': [10, 20, 30, 40, 50, 60,\n",
       "                                                      70, 80, 90, 100, 110,\n",
       "                                                      None],\n",
       "                                        'max_features': ['auto', 'sqrt'],\n",
       "                                        'min_samples_leaf': [1, 2, 4],\n",
       "                                        'min_samples_split': [2, 5, 10],\n",
       "                                        'n_estimators': [200, 400, 600, 800,\n",
       "                                                         1000, 1200, 1400, 1600,\n",
       "                                                         1800, 2000]},\n",
       "                   pre_dispatch='2*n_jobs', random_state=42, refit=True,\n",
       "                   return_train_score=False, scoring=None, verbose=2)"
      ]
     },
     "execution_count": 77,
     "metadata": {},
     "output_type": "execute_result"
    }
   ],
   "source": [
    "# Use the random grid to search for best hyperparameters\n",
    "# First create the base model to tune\n",
    "rf = RandomForestClassifier()\n",
    "# Random search of parameters, using 3 fold cross validation, \n",
    "# search across 100 different combinations, and use all available cores\n",
    "rf_random = RandomizedSearchCV(estimator = rf, param_distributions = random_grid, n_iter = 100, cv = 3, verbose=2, random_state=42, n_jobs = -1)\n",
    "# Fit the random search model\n",
    "rf_random.fit(X_train, y_train)"
   ]
  },
  {
   "cell_type": "code",
   "execution_count": 86,
   "metadata": {},
   "outputs": [],
   "source": [
    "# forest train accuracy score\n",
    "train_score = forest.score(X_train, y_train)\n",
    "\n",
    "# forest test accuracy score\n",
    "test_score = forest.score(X_test, y_test)"
   ]
  },
  {
   "cell_type": "code",
   "execution_count": 89,
   "metadata": {},
   "outputs": [
    {
     "name": "stdout",
     "output_type": "stream",
     "text": [
      "Train score -- 0.7418666666666667\n",
      "Test score--  0.7156\n"
     ]
    }
   ],
   "source": [
    "print('Train score --', train_score)\n",
    "print('Test score-- ',test_score)"
   ]
  },
  {
   "cell_type": "code",
   "execution_count": null,
   "metadata": {},
   "outputs": [],
   "source": []
  }
 ],
 "metadata": {
  "kernelspec": {
   "display_name": "Python 3",
   "language": "python",
   "name": "python3"
  },
  "language_info": {
   "codemirror_mode": {
    "name": "ipython",
    "version": 3
   },
   "file_extension": ".py",
   "mimetype": "text/x-python",
   "name": "python",
   "nbconvert_exporter": "python",
   "pygments_lexer": "ipython3",
   "version": "3.6.9"
  }
 },
 "nbformat": 4,
 "nbformat_minor": 2
}
