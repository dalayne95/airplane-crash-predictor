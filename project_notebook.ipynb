{
 "cells": [
  {
   "cell_type": "markdown",
   "metadata": {},
   "source": [
    "# Classifying Airplane Accidents Based on Severity"
   ]
  },
  {
   "cell_type": "markdown",
   "metadata": {},
   "source": [
    "## Context\n",
    "\n",
    "We approached this challenge as if we were hired by the [Aviation Safety Network](https://aviation-safety.net) (ASN) in conjunction with the [Flight Safety Foundation](https://flightsafety.org) to investigate which factors contributed to the increase in flight-related fatalities during 2018. Despite 2018 being one of the safest years on record for commercial aviation, there was a 50% increase in incidents from 2017 resulting in more than a 1000% increase in fatalities. With the information provided, we will be able to advise the ASN on how to potentially minimize the severity of a given airline crash. \n",
    "\n",
    "[Data Source](https://www.hackerearth.com/challenges/competitive/airplane-accident-severity-hackerearth-machine-learning-challenge/machine-learning/how-severe-can-an-airplane-accident-be-03e7a3f1/)"
   ]
  },
  {
   "cell_type": "markdown",
   "metadata": {},
   "source": [
    "## Goals\n",
    "\n",
    "We want to predict the severity of an airplane accident based on several features:\n",
    "    - Number of days since inspection \n",
    "    - Total safety complains\n",
    "    - An estimation of how much control the pilot had during the incident\n",
    "    - Turbulence\n",
    "    - Cabin temperature\n",
    "    - Accident type\n",
    "    - Max elevation achieved\n",
    "    - Number of prior violations\n",
    "    - Safety score (a measure of how safe the plane was deemed to be)\n",
    "    \n",
    "Our target variable is Severity. The Severity feature ranks the severity of each airplane accident one a scale of low damage with few/no injuries (Minor_Damage_And_Injuries) to high damage with fatalities (Highly_Fatal_And_Damaging). "
   ]
  },
  {
   "cell_type": "markdown",
   "metadata": {},
   "source": [
    "## Imports"
   ]
  },
  {
   "cell_type": "code",
   "execution_count": 1,
   "metadata": {},
   "outputs": [],
   "source": [
    "import warnings\n",
    "warnings.filterwarnings(\"ignore\")\n",
    "\n",
    "from data_cleaning import *\n",
    "\n",
    "import pandas as pd\n",
    "import numpy as np \n",
    "import seaborn as sns\n",
    "import matplotlib.pyplot as plt\n",
    "from sklearn.model_selection import train_test_split\n",
    "from sklearn.preprocessing import LabelEncoder\n",
    "from sklearn.preprocessing import OneHotEncoder\n",
    "from sklearn.preprocessing import StandardScaler\n",
    "from sklearn.metrics import accuracy_score, confusion_matrix, classification_report\n",
    "from sklearn.tree import DecisionTreeClassifier \n",
    "from sklearn.ensemble import BaggingClassifier, RandomForestClassifier\n",
    "from sklearn.model_selection import RandomizedSearchCV\n",
    "from sklearn.ensemble import RandomForestClassifier\n",
    "from scipy.stats import uniform\n",
    "from sklearn.linear_model import LogisticRegression\n",
    "from sklearn.metrics import confusion_matrix\n",
    "from sklearn.preprocessing import OrdinalEncoder\n",
    "from sklearn.model_selection import GridSearchCV\n",
    "\n",
    "sns.set(style=\"whitegrid\")"
   ]
  },
  {
   "cell_type": "markdown",
   "metadata": {},
   "source": [
    "## Dataframe"
   ]
  },
  {
   "cell_type": "markdown",
   "metadata": {},
   "source": [
    "#### Column Descriptors\n",
    "\n",
    "Accident_ID: unique id assigned to each row\n",
    "\n",
    "Accident_Type_Code: the type of accident (factor, not numeric)\n",
    "\n",
    "Cabin_Temperature: the last recorded temperature before the incident, measured in degrees fahrenheit\n",
    "\n",
    "Turbulence_In_gforces: the recorded/estimated turbulence experienced during the accident\n",
    "\n",
    "Control_Metric: an estimation of how much control the pilot had during the incident given the factors at play\n",
    "\n",
    "Total_Safety_Complaints: number of complaints from mechanics prior to the accident\n",
    "\n",
    "Days_Since_Inspection: how long the plane went without inspection before the incident\n",
    "\n",
    "Safety_Score: a measure of how safe the plane was deemed to be\n",
    "\n",
    "Violations: number of violations that the aircraft received during inspections\n",
    "\n",
    "Severity: a description (4 level factor) on the severity of the crash\n",
    "\n",
    "Max_Elevation: maximum elevation achieved\n",
    "\n",
    "Adverse_Weather_Metric: a measure of adverse weather"
   ]
  },
  {
   "cell_type": "code",
   "execution_count": 2,
   "metadata": {
    "scrolled": false
   },
   "outputs": [
    {
     "data": {
      "text/html": [
       "<div>\n",
       "<style scoped>\n",
       "    .dataframe tbody tr th:only-of-type {\n",
       "        vertical-align: middle;\n",
       "    }\n",
       "\n",
       "    .dataframe tbody tr th {\n",
       "        vertical-align: top;\n",
       "    }\n",
       "\n",
       "    .dataframe thead th {\n",
       "        text-align: right;\n",
       "    }\n",
       "</style>\n",
       "<table border=\"1\" class=\"dataframe\">\n",
       "  <thead>\n",
       "    <tr style=\"text-align: right;\">\n",
       "      <th></th>\n",
       "      <th>Severity</th>\n",
       "      <th>Safety_Score</th>\n",
       "      <th>Days_Since_Inspection</th>\n",
       "      <th>Total_Safety_Complaints</th>\n",
       "      <th>Control_Metric</th>\n",
       "      <th>Turbulence_In_gforces</th>\n",
       "      <th>Cabin_Temperature</th>\n",
       "      <th>Accident_Type_Code</th>\n",
       "      <th>Max_Elevation</th>\n",
       "      <th>Violations</th>\n",
       "      <th>Adverse_Weather_Metric</th>\n",
       "    </tr>\n",
       "  </thead>\n",
       "  <tbody>\n",
       "    <tr>\n",
       "      <th>0</th>\n",
       "      <td>1</td>\n",
       "      <td>49.223744</td>\n",
       "      <td>14</td>\n",
       "      <td>22</td>\n",
       "      <td>71.285324</td>\n",
       "      <td>0.272118</td>\n",
       "      <td>78.04</td>\n",
       "      <td>2</td>\n",
       "      <td>31335.476824</td>\n",
       "      <td>3</td>\n",
       "      <td>0.424352</td>\n",
       "    </tr>\n",
       "    <tr>\n",
       "      <th>1</th>\n",
       "      <td>1</td>\n",
       "      <td>62.465753</td>\n",
       "      <td>10</td>\n",
       "      <td>27</td>\n",
       "      <td>72.288058</td>\n",
       "      <td>0.423939</td>\n",
       "      <td>84.54</td>\n",
       "      <td>2</td>\n",
       "      <td>26024.711057</td>\n",
       "      <td>2</td>\n",
       "      <td>0.352350</td>\n",
       "    </tr>\n",
       "    <tr>\n",
       "      <th>2</th>\n",
       "      <td>3</td>\n",
       "      <td>63.059361</td>\n",
       "      <td>13</td>\n",
       "      <td>16</td>\n",
       "      <td>66.362808</td>\n",
       "      <td>0.322604</td>\n",
       "      <td>78.86</td>\n",
       "      <td>7</td>\n",
       "      <td>39269.053927</td>\n",
       "      <td>3</td>\n",
       "      <td>0.003364</td>\n",
       "    </tr>\n",
       "    <tr>\n",
       "      <th>3</th>\n",
       "      <td>2</td>\n",
       "      <td>48.082192</td>\n",
       "      <td>11</td>\n",
       "      <td>9</td>\n",
       "      <td>74.703737</td>\n",
       "      <td>0.337029</td>\n",
       "      <td>81.79</td>\n",
       "      <td>3</td>\n",
       "      <td>42771.499200</td>\n",
       "      <td>1</td>\n",
       "      <td>0.211728</td>\n",
       "    </tr>\n",
       "    <tr>\n",
       "      <th>4</th>\n",
       "      <td>3</td>\n",
       "      <td>26.484018</td>\n",
       "      <td>13</td>\n",
       "      <td>25</td>\n",
       "      <td>47.948952</td>\n",
       "      <td>0.541140</td>\n",
       "      <td>77.16</td>\n",
       "      <td>3</td>\n",
       "      <td>35509.228515</td>\n",
       "      <td>2</td>\n",
       "      <td>0.176883</td>\n",
       "    </tr>\n",
       "  </tbody>\n",
       "</table>\n",
       "</div>"
      ],
      "text/plain": [
       "   Severity  Safety_Score  Days_Since_Inspection  Total_Safety_Complaints  \\\n",
       "0         1     49.223744                     14                       22   \n",
       "1         1     62.465753                     10                       27   \n",
       "2         3     63.059361                     13                       16   \n",
       "3         2     48.082192                     11                        9   \n",
       "4         3     26.484018                     13                       25   \n",
       "\n",
       "   Control_Metric  Turbulence_In_gforces  Cabin_Temperature  \\\n",
       "0       71.285324               0.272118              78.04   \n",
       "1       72.288058               0.423939              84.54   \n",
       "2       66.362808               0.322604              78.86   \n",
       "3       74.703737               0.337029              81.79   \n",
       "4       47.948952               0.541140              77.16   \n",
       "\n",
       "   Accident_Type_Code  Max_Elevation  Violations  Adverse_Weather_Metric  \n",
       "0                   2   31335.476824           3                0.424352  \n",
       "1                   2   26024.711057           2                0.352350  \n",
       "2                   7   39269.053927           3                0.003364  \n",
       "3                   3   42771.499200           1                0.211728  \n",
       "4                   3   35509.228515           2                0.176883  "
      ]
     },
     "execution_count": 2,
     "metadata": {},
     "output_type": "execute_result"
    }
   ],
   "source": [
    "# load in dataframe\n",
    "df_train.head()"
   ]
  },
  {
   "cell_type": "code",
   "execution_count": 20,
   "metadata": {},
   "outputs": [
    {
     "data": {
      "text/html": [
       "<div>\n",
       "<style scoped>\n",
       "    .dataframe tbody tr th:only-of-type {\n",
       "        vertical-align: middle;\n",
       "    }\n",
       "\n",
       "    .dataframe tbody tr th {\n",
       "        vertical-align: top;\n",
       "    }\n",
       "\n",
       "    .dataframe thead th {\n",
       "        text-align: right;\n",
       "    }\n",
       "</style>\n",
       "<table border=\"1\" class=\"dataframe\">\n",
       "  <thead>\n",
       "    <tr style=\"text-align: right;\">\n",
       "      <th></th>\n",
       "      <th>Severity</th>\n",
       "      <th>Safety_Score</th>\n",
       "      <th>Days_Since_Inspection</th>\n",
       "      <th>Total_Safety_Complaints</th>\n",
       "      <th>Control_Metric</th>\n",
       "      <th>Turbulence_In_gforces</th>\n",
       "      <th>Cabin_Temperature</th>\n",
       "      <th>Accident_Type_Code</th>\n",
       "      <th>Max_Elevation</th>\n",
       "      <th>Violations</th>\n",
       "      <th>Adverse_Weather_Metric</th>\n",
       "    </tr>\n",
       "  </thead>\n",
       "  <tbody>\n",
       "    <tr>\n",
       "      <th>count</th>\n",
       "      <td>10000.000000</td>\n",
       "      <td>10000.000000</td>\n",
       "      <td>10000.000000</td>\n",
       "      <td>10000.000000</td>\n",
       "      <td>10000.000000</td>\n",
       "      <td>10000.000000</td>\n",
       "      <td>10000.000000</td>\n",
       "      <td>10000.000000</td>\n",
       "      <td>10000.000000</td>\n",
       "      <td>10000.00000</td>\n",
       "      <td>10000.000000</td>\n",
       "    </tr>\n",
       "    <tr>\n",
       "      <th>mean</th>\n",
       "      <td>2.526600</td>\n",
       "      <td>41.876406</td>\n",
       "      <td>12.931100</td>\n",
       "      <td>6.564300</td>\n",
       "      <td>65.145324</td>\n",
       "      <td>0.381495</td>\n",
       "      <td>79.969331</td>\n",
       "      <td>3.814900</td>\n",
       "      <td>32001.803282</td>\n",
       "      <td>2.01220</td>\n",
       "      <td>0.255635</td>\n",
       "    </tr>\n",
       "    <tr>\n",
       "      <th>std</th>\n",
       "      <td>1.168173</td>\n",
       "      <td>16.138072</td>\n",
       "      <td>3.539803</td>\n",
       "      <td>6.971982</td>\n",
       "      <td>11.882934</td>\n",
       "      <td>0.121301</td>\n",
       "      <td>2.759739</td>\n",
       "      <td>1.902577</td>\n",
       "      <td>9431.995196</td>\n",
       "      <td>1.03998</td>\n",
       "      <td>0.381128</td>\n",
       "    </tr>\n",
       "    <tr>\n",
       "      <th>min</th>\n",
       "      <td>1.000000</td>\n",
       "      <td>0.000000</td>\n",
       "      <td>1.000000</td>\n",
       "      <td>0.000000</td>\n",
       "      <td>0.000000</td>\n",
       "      <td>0.134000</td>\n",
       "      <td>74.740000</td>\n",
       "      <td>1.000000</td>\n",
       "      <td>831.695553</td>\n",
       "      <td>0.00000</td>\n",
       "      <td>0.000316</td>\n",
       "    </tr>\n",
       "    <tr>\n",
       "      <th>25%</th>\n",
       "      <td>1.000000</td>\n",
       "      <td>30.593607</td>\n",
       "      <td>11.000000</td>\n",
       "      <td>2.000000</td>\n",
       "      <td>56.927985</td>\n",
       "      <td>0.293665</td>\n",
       "      <td>77.960000</td>\n",
       "      <td>2.000000</td>\n",
       "      <td>25757.636908</td>\n",
       "      <td>1.00000</td>\n",
       "      <td>0.012063</td>\n",
       "    </tr>\n",
       "    <tr>\n",
       "      <th>50%</th>\n",
       "      <td>2.000000</td>\n",
       "      <td>41.278539</td>\n",
       "      <td>13.000000</td>\n",
       "      <td>4.000000</td>\n",
       "      <td>65.587967</td>\n",
       "      <td>0.365879</td>\n",
       "      <td>79.540000</td>\n",
       "      <td>4.000000</td>\n",
       "      <td>32060.336419</td>\n",
       "      <td>2.00000</td>\n",
       "      <td>0.074467</td>\n",
       "    </tr>\n",
       "    <tr>\n",
       "      <th>75%</th>\n",
       "      <td>4.000000</td>\n",
       "      <td>52.511416</td>\n",
       "      <td>15.000000</td>\n",
       "      <td>9.000000</td>\n",
       "      <td>73.336372</td>\n",
       "      <td>0.451346</td>\n",
       "      <td>81.560000</td>\n",
       "      <td>5.000000</td>\n",
       "      <td>38380.641513</td>\n",
       "      <td>3.00000</td>\n",
       "      <td>0.354059</td>\n",
       "    </tr>\n",
       "    <tr>\n",
       "      <th>max</th>\n",
       "      <td>4.000000</td>\n",
       "      <td>100.000000</td>\n",
       "      <td>23.000000</td>\n",
       "      <td>54.000000</td>\n",
       "      <td>100.000000</td>\n",
       "      <td>0.882648</td>\n",
       "      <td>97.510000</td>\n",
       "      <td>7.000000</td>\n",
       "      <td>64297.651218</td>\n",
       "      <td>5.00000</td>\n",
       "      <td>2.365378</td>\n",
       "    </tr>\n",
       "  </tbody>\n",
       "</table>\n",
       "</div>"
      ],
      "text/plain": [
       "           Severity  Safety_Score  Days_Since_Inspection  \\\n",
       "count  10000.000000  10000.000000           10000.000000   \n",
       "mean       2.526600     41.876406              12.931100   \n",
       "std        1.168173     16.138072               3.539803   \n",
       "min        1.000000      0.000000               1.000000   \n",
       "25%        1.000000     30.593607              11.000000   \n",
       "50%        2.000000     41.278539              13.000000   \n",
       "75%        4.000000     52.511416              15.000000   \n",
       "max        4.000000    100.000000              23.000000   \n",
       "\n",
       "       Total_Safety_Complaints  Control_Metric  Turbulence_In_gforces  \\\n",
       "count             10000.000000    10000.000000           10000.000000   \n",
       "mean                  6.564300       65.145324               0.381495   \n",
       "std                   6.971982       11.882934               0.121301   \n",
       "min                   0.000000        0.000000               0.134000   \n",
       "25%                   2.000000       56.927985               0.293665   \n",
       "50%                   4.000000       65.587967               0.365879   \n",
       "75%                   9.000000       73.336372               0.451346   \n",
       "max                  54.000000      100.000000               0.882648   \n",
       "\n",
       "       Cabin_Temperature  Accident_Type_Code  Max_Elevation   Violations  \\\n",
       "count       10000.000000        10000.000000   10000.000000  10000.00000   \n",
       "mean           79.969331            3.814900   32001.803282      2.01220   \n",
       "std             2.759739            1.902577    9431.995196      1.03998   \n",
       "min            74.740000            1.000000     831.695553      0.00000   \n",
       "25%            77.960000            2.000000   25757.636908      1.00000   \n",
       "50%            79.540000            4.000000   32060.336419      2.00000   \n",
       "75%            81.560000            5.000000   38380.641513      3.00000   \n",
       "max            97.510000            7.000000   64297.651218      5.00000   \n",
       "\n",
       "       Adverse_Weather_Metric  \n",
       "count            10000.000000  \n",
       "mean                 0.255635  \n",
       "std                  0.381128  \n",
       "min                  0.000316  \n",
       "25%                  0.012063  \n",
       "50%                  0.074467  \n",
       "75%                  0.354059  \n",
       "max                  2.365378  "
      ]
     },
     "execution_count": 20,
     "metadata": {},
     "output_type": "execute_result"
    }
   ],
   "source": [
    "df_train.describe()"
   ]
  },
  {
   "cell_type": "markdown",
   "metadata": {},
   "source": [
    "## Feature Variable Distributions \n",
    "\n",
    "We plotted the distributions of all of the features we planned to measure. "
   ]
  },
  {
   "cell_type": "code",
   "execution_count": 3,
   "metadata": {
    "scrolled": true
   },
   "outputs": [
    {
     "data": {
      "text/plain": [
       "Text(0.5, 0, 'Adverse Weather Metric')"
      ]
     },
     "execution_count": 3,
     "metadata": {},
     "output_type": "execute_result"
    },
    {
     "data": {
      "text/plain": [
       "<Figure size 432x288 with 0 Axes>"
      ]
     },
     "metadata": {},
     "output_type": "display_data"
    },
    {
     "data": {
      "image/png": "[encoded data removed]",
      "text/plain": [
       "<Figure size 288x288 with 1 Axes>"
      ]
     },
     "metadata": {
      "needs_background": "light"
     },
     "output_type": "display_data"
    },
    {
     "data": {
      "image/png": "[encoded data removed]",
      "text/plain": [
       "<Figure size 288x288 with 1 Axes>"
      ]
     },
     "metadata": {
      "needs_background": "light"
     },
     "output_type": "display_data"
    },
    {
     "data": {
      "image/png": "[encoded data removed]",
      "text/plain": [
       "<Figure size 288x288 with 1 Axes>"
      ]
     },
     "metadata": {
      "needs_background": "light"
     },
     "output_type": "display_data"
    },
    {
     "data": {
      "image/png": "[encoded data removed]",
      "text/plain": [
       "<Figure size 288x288 with 1 Axes>"
      ]
     },
     "metadata": {
      "needs_background": "light"
     },
     "output_type": "display_data"
    },
    {
     "data": {
      "image/png": "[encoded data removed]",
      "text/plain": [
       "<Figure size 288x288 with 1 Axes>"
      ]
     },
     "metadata": {
      "needs_background": "light"
     },
     "output_type": "display_data"
    },
    {
     "data": {
      "image/png": "[encoded data removed]",
      "text/plain": [
       "<Figure size 288x288 with 1 Axes>"
      ]
     },
     "metadata": {
      "needs_background": "light"
     },
     "output_type": "display_data"
    },
    {
     "data": {
      "image/png": "[encoded data removed]",
      "text/plain": [
       "<Figure size 288x288 with 1 Axes>"
      ]
     },
     "metadata": {
      "needs_background": "light"
     },
     "output_type": "display_data"
    },
    {
     "data": {
      "image/png": "[encoded data removed]",
      "text/plain": [
       "<Figure size 288x288 with 1 Axes>"
      ]
     },
     "metadata": {
      "needs_background": "light"
     },
     "output_type": "display_data"
    },
    {
     "data": {
      "image/png": "[encoded data removed]",
      "text/plain": [
       "<Figure size 288x288 with 1 Axes>"
      ]
     },
     "metadata": {
      "needs_background": "light"
     },
     "output_type": "display_data"
    },
    {
     "data": {
      "image/png": "[encoded data removed]",
      "text/plain": [
       "<Figure size 288x288 with 1 Axes>"
      ]
     },
     "metadata": {
      "needs_background": "light"
     },
     "output_type": "display_data"
    },
    {
     "data": {
      "image/png": "[encoded data removed]",
      "text/plain": [
       "<Figure size 288x288 with 1 Axes>"
      ]
     },
     "metadata": {
      "needs_background": "light"
     },
     "output_type": "display_data"
    }
   ],
   "source": [
    "fig = plt.figure()\n",
    "fig.subplots_adjust(hspace=0.4, wspace=0.4)\n",
    "\n",
    "plt.figure(figsize=(4, 4))\n",
    "fig1 = sns.distplot(df_train.Severity)\n",
    "plt.xlabel('Severity')\n",
    "\n",
    "plt.figure(figsize=(4, 4))\n",
    "fig2 = sns.distplot(df_train.Safety_Score);\n",
    "plt.xlabel('Safety Score')\n",
    "\n",
    "plt.figure(figsize=(4, 4))\n",
    "fig3 = sns.distplot(df_train.Days_Since_Inspection);\n",
    "plt.xlabel('Number of Days Since Inspection')\n",
    "\n",
    "plt.figure(figsize=(4, 4))\n",
    "fig4 = sns.distplot(df_train.Total_Safety_Complaints);\n",
    "plt.xlabel('Total Safety Complaints')\n",
    "\n",
    "plt.figure(figsize=(4, 4))\n",
    "fig5 = sns.distplot(df_train.Control_Metric);\n",
    "plt.xlabel('Pilot Control Metric')\n",
    "\n",
    "plt.figure(figsize=(4, 4))\n",
    "fig6 = sns.distplot(df_train.Turbulence_In_gforces);\n",
    "plt.xlabel('Turbulance (in gforces)')\n",
    "\n",
    "plt.figure(figsize=(4, 4))\n",
    "fig7 = sns.distplot(df_train.Cabin_Temperature);\n",
    "plt.xlabel('Cabin temperature')\n",
    "\n",
    "plt.figure(figsize=(4, 4))\n",
    "fig8 = sns.distplot(df_train.Accident_Type_Code);\n",
    "plt.xlabel('Accident Type Code')\n",
    "\n",
    "plt.figure(figsize=(4, 4))\n",
    "fig9 = sns.distplot(df_train.Max_Elevation);\n",
    "plt.xlabel('Maximum Elevation')\n",
    "\n",
    "plt.figure(figsize=(4, 4))\n",
    "fig10 = sns.distplot(df_train.Violations);\n",
    "plt.xlabel('Number of Violations')\n",
    "\n",
    "plt.figure(figsize=(4, 4))\n",
    "fig11 = sns.distplot(df_train.Adverse_Weather_Metric);\n",
    "plt.xlabel('Adverse Weather Metric')"
   ]
  },
  {
   "cell_type": "markdown",
   "metadata": {},
   "source": [
    "# Modeling\n",
    "\n",
    "We will try a few different modeling methods to see which one produces the most accurate results:\n",
    "\n",
    "- Logistic regression\n",
    "- Basic decision tree classifier, bagged\n",
    "- Random forest\n"
   ]
  },
  {
   "cell_type": "markdown",
   "metadata": {},
   "source": [
    "### Logistic Regression \n",
    "\n",
    "Logistic regression is a basic predictive model. We will start with this and use it as our baseline model. "
   ]
  },
  {
   "cell_type": "code",
   "execution_count": 4,
   "metadata": {},
   "outputs": [],
   "source": [
    "# Scale the data\n",
    "ss = StandardScaler()\n",
    "X_train_scaled = ss.fit_transform(X_train)\n",
    "X_test_scaled = ss.transform(X_test)"
   ]
  },
  {
   "cell_type": "code",
   "execution_count": 5,
   "metadata": {},
   "outputs": [],
   "source": [
    "# instantiate and fit a Logistic Regression\n",
    "lr = LogisticRegression(random_state=42, solver = 'lbfgs', multi_class= 'auto')\n",
    "lr.fit(X_train_scaled, y_train)\n",
    "y_hat_train = lr.predict(X_train)\n",
    "y_hat_test = lr.predict(X_test)"
   ]
  },
  {
   "cell_type": "code",
   "execution_count": 6,
   "metadata": {
    "scrolled": true
   },
   "outputs": [
    {
     "name": "stdout",
     "output_type": "stream",
     "text": [
      "Training data accuracy score before GridSearch: 0.6468\n",
      "Test data accuracy score before GridSearch: 0.6368\n"
     ]
    }
   ],
   "source": [
    "# accuracy score \n",
    "print(\"Training data accuracy score before GridSearch:\", lr.score(X_train_scaled, y_train))\n",
    "print(\"Test data accuracy score before GridSearch:\", lr.score(X_test_scaled, y_test))"
   ]
  },
  {
   "cell_type": "markdown",
   "metadata": {},
   "source": [
    "**Our baseline model has a pretty bad accuracy score!**\n",
    "\n",
    "Next we will perform a GridSearch to see if we can improve the model by using the best paramaters."
   ]
  },
  {
   "cell_type": "code",
   "execution_count": 7,
   "metadata": {
    "scrolled": true
   },
   "outputs": [
    {
     "name": "stdout",
     "output_type": "stream",
     "text": [
      "LogisticRegression(C=1.0, class_weight=None, dual=False, fit_intercept=True,\n",
      "                   intercept_scaling=1, l1_ratio=None, max_iter=100,\n",
      "                   multi_class='auto', n_jobs=None, penalty='l1',\n",
      "                   random_state=42, solver='saga', tol=0.0001, verbose=0,\n",
      "                   warm_start=False)\n"
     ]
    }
   ],
   "source": [
    "# perform a GridSearch to determine best paramaters to use\n",
    "C = np.logspace(0, 25, num = 25)\n",
    "penalty = ['l1', 'l2']\n",
    "solver = ['liblinear', 'saga']\n",
    "logistic = LogisticRegression()\n",
    "hyperparameters = dict(C=C, penalty=penalty, solver=solver)\n",
    "gridsearch = GridSearchCV(lr, hyperparameters)\n",
    "best_model_grid = gridsearch.fit(X_train_scaled, y_train)\n",
    "print(best_model_grid.best_estimator_)"
   ]
  },
  {
   "cell_type": "code",
   "execution_count": 8,
   "metadata": {},
   "outputs": [
    {
     "name": "stdout",
     "output_type": "stream",
     "text": [
      "Training data accuracy score after GridSearch: 0.6469333333333334\n",
      "Test data accuracy score after GridSearch: 0.6372\n"
     ]
    }
   ],
   "source": [
    "# accuracy score \n",
    "print(\"Training data accuracy score after GridSearch:\", best_model_grid.score(X_train_scaled, y_train))\n",
    "print(\"Test data accuracy score after GridSearch:\", best_model_grid.score(X_test_scaled, y_test))"
   ]
  },
  {
   "cell_type": "markdown",
   "metadata": {},
   "source": [
    "**Performing a GridSearch did not improve our model accuracy**\n",
    "\n",
    "We will move on to other model types to see if we can find a better fit for our data."
   ]
  },
  {
   "cell_type": "markdown",
   "metadata": {},
   "source": [
    "### Bagged Tree\n",
    "\n",
    "The bagged tree is a simple decision tree classifier that uses bagging to encourage diveristy in the \"trees\" our model samples. By bagging, we perform sampling with replacement which uses random parts of the dataset instead of the entire dataset."
   ]
  },
  {
   "cell_type": "code",
   "execution_count": 9,
   "metadata": {},
   "outputs": [
    {
     "data": {
      "text/plain": [
       "{'criterion': 'entropy', 'max_depth': 10, 'min_samples_split': 20}"
      ]
     },
     "execution_count": 9,
     "metadata": {},
     "output_type": "execute_result"
    }
   ],
   "source": [
    "# Perform a GridSearch to find the best parameters to use\n",
    "clf = DecisionTreeClassifier()\n",
    "\n",
    "param_grid = {\n",
    "    'criterion': ['gini', 'entropy'],\n",
    "    'max_depth': [1, 2, 5, 10],\n",
    "    'min_samples_split': [1, 5, 10, 20]\n",
    "}\n",
    "\n",
    "gs_tree = GridSearchCV(clf, param_grid, cv=3)\n",
    "gs_tree.fit(X_train, y_train)\n",
    "\n",
    "gs_tree.best_params_"
   ]
  },
  {
   "cell_type": "markdown",
   "metadata": {},
   "source": [
    "##### GridSearch finds the best paramaters for our model to be the most accurate\n",
    "\n",
    "Our best paramaters for the Bagged Tree Model are:\n",
    "- criterion = entropy\n",
    "- max depth = 10\n",
    "- min sample split = 10"
   ]
  },
  {
   "cell_type": "code",
   "execution_count": 10,
   "metadata": {
    "scrolled": true
   },
   "outputs": [
    {
     "data": {
      "text/plain": [
       "BaggingClassifier(base_estimator=DecisionTreeClassifier(ccp_alpha=0.0,\n",
       "                                                        class_weight=None,\n",
       "                                                        criterion='entropy',\n",
       "                                                        max_depth=10,\n",
       "                                                        max_features=None,\n",
       "                                                        max_leaf_nodes=None,\n",
       "                                                        min_impurity_decrease=0.0,\n",
       "                                                        min_impurity_split=None,\n",
       "                                                        min_samples_leaf=1,\n",
       "                                                        min_samples_split=10,\n",
       "                                                        min_weight_fraction_leaf=0.0,\n",
       "                                                        presort='deprecated',\n",
       "                                                        random_state=None,\n",
       "                                                        splitter='best'),\n",
       "                  bootstrap=True, bootstrap_features=False, max_features=1.0,\n",
       "                  max_samples=1.0, n_estimators=20, n_jobs=None,\n",
       "                  oob_score=False, random_state=None, verbose=0,\n",
       "                  warm_start=False)"
      ]
     },
     "execution_count": 10,
     "metadata": {},
     "output_type": "execute_result"
    }
   ],
   "source": [
    "# instantiate and fit a DecisionTreeClassifier\n",
    "bagged_tree =  BaggingClassifier(DecisionTreeClassifier(criterion='entropy', max_depth=10, min_samples_split=10), \n",
    "                                 n_estimators=20)\n",
    "\n",
    "bagged_tree.fit(X_train, y_train)"
   ]
  },
  {
   "cell_type": "code",
   "execution_count": 11,
   "metadata": {},
   "outputs": [
    {
     "name": "stdout",
     "output_type": "stream",
     "text": [
      "Training data accuracy score: 0.9745333333333334\n",
      "Test data accuracy score: 0.9576\n"
     ]
    }
   ],
   "source": [
    "# accuracy score \n",
    "print(\"Training data accuracy score:\", bagged_tree.score(X_train, y_train))\n",
    "print(\"Test data accuracy score:\", bagged_tree.score(X_test, y_test))"
   ]
  },
  {
   "cell_type": "markdown",
   "metadata": {},
   "source": [
    "### Random Forest\n",
    "\n",
    "The Random Forest algorithm is a supervised learning algorithm that can be used for classification. It is an ensemble of decision tree classifiers. Ensemble methods are naturally robust because they are resistant to variance in the data. "
   ]
  },
  {
   "cell_type": "code",
   "execution_count": 12,
   "metadata": {},
   "outputs": [
    {
     "data": {
      "text/plain": [
       "{'criterion': 'entropy',\n",
       " 'max_depth': None,\n",
       " 'min_samples_leaf': 3,\n",
       " 'min_samples_split': 10,\n",
       " 'n_estimators': 100}"
      ]
     },
     "execution_count": 12,
     "metadata": {},
     "output_type": "execute_result"
    }
   ],
   "source": [
    "# Perform a GridSearch to find the best parameters to use\n",
    "rf_clf = RandomForestClassifier()\n",
    "\n",
    "rf_param_grid = {\n",
    "    'n_estimators': [10, 30, 100],\n",
    "    'criterion': ['gini', 'entropy'],\n",
    "    'max_depth': [None, 2, 6, 10],\n",
    "    'min_samples_split': [5, 10],\n",
    "    'min_samples_leaf': [3, 6]\n",
    "}\n",
    "\n",
    "rf_grid_search = GridSearchCV(rf_clf, rf_param_grid, cv=3)\n",
    "rf_grid_search.fit(X_train, y_train)\n",
    "\n",
    "rf_grid_search.best_params_"
   ]
  },
  {
   "cell_type": "markdown",
   "metadata": {},
   "source": [
    "##### GridSearch finds the best paramaters for our model to be the most accurate\n",
    "\n",
    "Our best paramaters for the Random Forest Model are:\n",
    "- criterion = entropy\n",
    "- max depth = None\n",
    "- min sample leaf = 3\n",
    "- min sample split = 5\n",
    "- n estimators = 100"
   ]
  },
  {
   "cell_type": "code",
   "execution_count": 13,
   "metadata": {},
   "outputs": [
    {
     "data": {
      "text/plain": [
       "RandomForestClassifier(bootstrap=True, ccp_alpha=0.0, class_weight=None,\n",
       "                       criterion='entropy', max_depth=None, max_features='auto',\n",
       "                       max_leaf_nodes=None, max_samples=None,\n",
       "                       min_impurity_decrease=0.0, min_impurity_split=None,\n",
       "                       min_samples_leaf=3, min_samples_split=5,\n",
       "                       min_weight_fraction_leaf=0.0, n_estimators=100,\n",
       "                       n_jobs=None, oob_score=False, random_state=None,\n",
       "                       verbose=0, warm_start=False)"
      ]
     },
     "execution_count": 13,
     "metadata": {},
     "output_type": "execute_result"
    }
   ],
   "source": [
    "# instantiate and fit a RandomForestClassifier\n",
    "forest = RandomForestClassifier(criterion='entropy', n_estimators=100, max_depth=None, min_samples_split=5, min_samples_leaf=3)\n",
    "forest.fit(X_train, y_train)"
   ]
  },
  {
   "cell_type": "code",
   "execution_count": 14,
   "metadata": {
    "scrolled": true
   },
   "outputs": [
    {
     "name": "stdout",
     "output_type": "stream",
     "text": [
      "Training data accuracy score: 0.988\n",
      "Test data accuracy score: 0.936\n"
     ]
    }
   ],
   "source": [
    "print(\"Training data accuracy score:\", forest.score(X_train, y_train))\n",
    "print(\"Test data accuracy score:\", forest.score(X_test, y_test))"
   ]
  },
  {
   "cell_type": "markdown",
   "metadata": {},
   "source": [
    "#### Plotting Feature Importance\n",
    "\n",
    "Feature importance is exactly what it sounds like: it tells us the most important features for our model predictions."
   ]
  },
  {
   "cell_type": "code",
   "execution_count": 15,
   "metadata": {
    "scrolled": true
   },
   "outputs": [
    {
     "name": "stdout",
     "output_type": "stream",
     "text": [
      "Safety_Score = 0.29849294786467495\n",
      "Days_Since_Inspection = 0.21588628625063352\n",
      "Total_Safety_Complaints = 0.025797306743065018\n",
      "Control_Metric = 0.15368473178289518\n",
      "Turbulence_In_gforces = 0.04913629903764362\n",
      "Cabin_Temperature = 0.03428316329330993\n",
      "Accident_Type_Code = 0.08647782207072786\n",
      "Max_Elevation = 0.03120323783966217\n",
      "Violations = 0.010158018876917804\n",
      "Adverse_Weather_Metric = 0.09488018624047001\n"
     ]
    }
   ],
   "source": [
    "for name, importance in zip(X_train, forest.feature_importances_):\n",
    "    print(name, \"=\", importance)"
   ]
  },
  {
   "cell_type": "code",
   "execution_count": 16,
   "metadata": {
    "scrolled": false
   },
   "outputs": [
    {
     "data": {
      "image/png": "[encoded data removed]",
      "text/plain": [
       "<Figure size 576x576 with 1 Axes>"
      ]
     },
     "metadata": {
      "needs_background": "light"
     },
     "output_type": "display_data"
    }
   ],
   "source": [
    "features = X_train.columns\n",
    "importances = forest.feature_importances_\n",
    "indices = np.argsort(importances)\n",
    "y_ticks = [0.1, 0.2, 0.3]\n",
    "\n",
    "plt.figure(figsize=(8,8))\n",
    "plt.title('Feature Importance for Random Forest')\n",
    "plt.bar(range(len(indices)), importances[indices], color='b', align='center')\n",
    "plt.yticks(y_ticks)\n",
    "plt.xticks(range(len(indices)), [features[i] for i in indices], rotation = 90)\n",
    "plt.xlabel('Relative Importance')\n",
    "plt.show()"
   ]
  },
  {
   "cell_type": "markdown",
   "metadata": {},
   "source": [
    "## Results"
   ]
  },
  {
   "cell_type": "markdown",
   "metadata": {},
   "source": [
    "- The model that performed the best was our Random Forest Model\n",
    "- In this model, the most important features in predicting the outcome were (in descending order)\n",
    "    1. Safety Score\n",
    "    2. Days Since Inspection\n",
    "    3. Control Metric\n",
    "    4. Adverse Weather Metric\n",
    "    5. Accident Type Code\n",
    "    6. Turbulence\n",
    "    7. Cabin Temperature\n",
    "    8. Max Elevation\n",
    "    9. Total Safety Complaints\n",
    "    10. Number of Violations"
   ]
  },
  {
   "cell_type": "markdown",
   "metadata": {},
   "source": [
    "## Conclusion and Further Study "
   ]
  },
  {
   "cell_type": "markdown",
   "metadata": {},
   "source": [
    "- Airlines should implement a Random Forest Model to predict which flights might be at risk of an accident \n",
    "- To reduce the severity of a crash, the Aviation Safety Network and the Flight Safety Foundation should focus on monitoring the top five predictors:\n",
    "    1. Safety Score\n",
    "    2. Days Since Inspection\n",
    "    3. Control Metric\n",
    "    4. Adverse Weather Metric\n",
    "    5. Accident Type Code   \n",
    "- To further improve flight safety, the ASN and FSF should perform a linear regression to determine what score in the feature categories above is more highly correlated with a more deadly flight and work to implement policies that prevent scores from reaching those numbers"
   ]
  }
 ],
 "metadata": {
  "kernelspec": {
   "display_name": "Python 3",
   "language": "python",
   "name": "python3"
  },
  "language_info": {
   "codemirror_mode": {
    "name": "ipython",
    "version": 3
   },
   "file_extension": ".py",
   "mimetype": "text/x-python",
   "name": "python",
   "nbconvert_exporter": "python",
   "pygments_lexer": "ipython3",
   "version": "3.7.5"
  }
 },
 "nbformat": 4,
 "nbformat_minor": 2
}
